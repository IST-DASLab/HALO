{
 "cells": [
  {
   "metadata": {},
   "cell_type": "code",
   "outputs": [],
   "execution_count": null,
   "source": [
    "## Introduction\n",
    "\n",
    "In\n",
    "this\n",
    "notebook, we\n",
    "will\n",
    "learn\n",
    "how\n",
    "to\n",
    "use[LoRA](https: // arxiv.org / abs / 2106.09685) from 🤗 PEFT\n",
    "to\n",
    "fine - tune\n",
    "an\n",
    "image\n",
    "classification\n",
    "model\n",
    "by\n",
    "ONLY\n",
    "using ** 0.77 % ** of\n",
    "the\n",
    "original\n",
    "trainable\n",
    "parameters\n",
    "of\n",
    "the\n",
    "model.\n",
    "\n",
    "LoRA\n",
    "adds\n",
    "low - rank\n",
    "\"update matrices\"\n",
    "to\n",
    "certain\n",
    "blocks in the\n",
    "underlying\n",
    "model( in this\n",
    "case\n",
    "the\n",
    "attention\n",
    "blocks) and ONLY\n",
    "trains\n",
    "those\n",
    "matrices\n",
    "during\n",
    "fine - tuning.During\n",
    "inference, these\n",
    "update\n",
    "matrices\n",
    "are\n",
    "_merged_\n",
    "with the original model parameters.For more details, check out the[original LoRA paper](https://\n",
    "    arxiv.org / abs / 2106.09685).\n",
    "\n",
    "Let\n",
    "'s get started by installing the dependencies.\n",
    "\n",
    "__ * Note\n",
    "that\n",
    "this\n",
    "notebook\n",
    "builds\n",
    "on\n",
    "top\n",
    "the[official\n",
    "image\n",
    "classification\n",
    "example\n",
    "notebook](https: // github.com / huggingface / notebooks / blob / main / examples / image_classification.ipynb). * __"
   ],
   "id": "16f707e5670243c6"
  },
  {
   "metadata": {},
   "cell_type": "markdown",
   "source": [
    "## Install dependencies\n",
    "\n",
    "Here we're installing `peft` from source to ensure we have access to all the bleeding edge features of `peft`. "
   ],
   "id": "a60fd30d19b4c415"
  },
  {
   "metadata": {},
   "cell_type": "code",
   "outputs": [],
   "execution_count": null,
   "source": "!pip install transformers accelerate evaluate datasets git+https://github.com/huggingface/peft -q",
   "id": "5112620010a63f7a"
  },
  {
   "metadata": {},
   "cell_type": "markdown",
   "source": [
    "## Authentication\n",
    "\n",
    "We will share our fine-tuned model at the end of training. So, to do that we just authenticate using our 🤗 token. This token is available from [here](https://huggingface.co/settings/tokens). If you don't have a 🤗 account already, we highly encourage you to do so; it's free!"
   ],
   "id": "f7318f0ad07c9702"
  },
  {
   "metadata": {},
   "cell_type": "code",
   "outputs": [],
   "execution_count": null,
   "source": [
    "from huggingface_hub import notebook_login\n",
    "\n",
    "notebook_login()"
   ],
   "id": "1341d43d1d057b46"
  },
  {
   "metadata": {},
   "cell_type": "markdown",
   "source": "## Check the library versions",
   "id": "cc095794d8f922cf"
  },
  {
   "metadata": {},
   "cell_type": "code",
   "outputs": [],
   "execution_count": null,
   "source": [
    "import transformers\n",
    "import accelerate\n",
    "import peft"
   ],
   "id": "e1685aabde5bfa25"
  },
  {
   "metadata": {},
   "cell_type": "code",
   "outputs": [],
   "execution_count": null,
   "source": [
    "print(f\"Transformers version: {transformers.__version__}\")\n",
    "print(f\"Accelerate version: {accelerate.__version__}\")\n",
    "print(f\"PEFT version: {peft.__version__}\")"
   ],
   "id": "9aa5b47f45caeee9"
  },
  {
   "metadata": {},
   "cell_type": "markdown",
   "source": "## Select a model checkpoint to fine-tune",
   "id": "ef6ee09f757a1eb4"
  },
  {
   "metadata": {},
   "cell_type": "code",
   "outputs": [],
   "execution_count": null,
   "source": "model_checkpoint = \"google/vit-base-patch16-224-in21k\"  # pre-trained model from which to fine-tune",
   "id": "fe25b4ccb08bb4ef"
  },
  {
   "metadata": {},
   "cell_type": "markdown",
   "source": [
    "## Load a dataset\n",
    "\n",
    "We're only loading the first 5000 instances from the training set of the [Food-101 dataset](https://huggingface.co/datasets/food101) to keep this example runtime short. "
   ],
   "id": "513aad06b11d4824"
  },
  {
   "metadata": {},
   "cell_type": "code",
   "outputs": [],
   "execution_count": null,
   "source": [
    "from datasets import load_dataset\n",
    "\n",
    "dataset = load_dataset(\"food101\", split=\"train[:5000]\")"
   ],
   "id": "420d19970ff6cbd3"
  },
  {
   "metadata": {},
   "cell_type": "markdown",
   "source": "## Prepare datasets for training and evaluation",
   "id": "37838e65e316a57a"
  },
  {
   "metadata": {},
   "cell_type": "markdown",
   "source": "1. Prepare `label2id` and `id2label` dictionaries. This will come in handy when performing inference and for metadata information. ",
   "id": "868153796ab33bcc"
  },
  {
   "metadata": {},
   "cell_type": "code",
   "outputs": [],
   "execution_count": null,
   "source": [
    "labels = dataset.features[\"label\"].names\n",
    "label2id, id2label = dict(), dict()\n",
    "for i, label in enumerate(labels):\n",
    "    label2id[label] = i\n",
    "    id2label[i] = label\n",
    "\n",
    "id2label[2]"
   ],
   "id": "440965d62422ede2"
  },
  {
   "metadata": {},
   "cell_type": "markdown",
   "source": "2. We load the image processor of the model we're fine-tuning.",
   "id": "35aac3588adb69f"
  },
  {
   "metadata": {},
   "cell_type": "code",
   "outputs": [],
   "execution_count": null,
   "source": [
    "from transformers import AutoImageProcessor\n",
    "\n",
    "image_processor = AutoImageProcessor.from_pretrained(model_checkpoint)\n",
    "image_processor"
   ],
   "id": "c0bdc2150ef15f0d"
  },
  {
   "metadata": {},
   "cell_type": "markdown",
   "source": "As one might notice, the `image_processor` has useful information on which size the training and evaluation images should be resized, stats that should be used to normalize the pixel values, etc. ",
   "id": "12d8baf1ab69f6d3"
  },
  {
   "metadata": {},
   "cell_type": "markdown",
   "source": "3. Using the image processor we prepare transformation functions for the datasets. These functions will include augmentation and pixel scaling.  ",
   "id": "f18392314875de23"
  },
  {
   "metadata": {},
   "cell_type": "code",
   "outputs": [],
   "execution_count": null,
   "source": [
    "from torchvision.transforms import (\n",
    "    CenterCrop,\n",
    "    Compose,\n",
    "    Normalize,\n",
    "    RandomHorizontalFlip,\n",
    "    RandomResizedCrop,\n",
    "    Resize,\n",
    "    ToTensor,\n",
    ")\n",
    "\n",
    "normalize = Normalize(mean=image_processor.image_mean, std=image_processor.image_std)\n",
    "train_transforms = Compose(\n",
    "    [\n",
    "        RandomResizedCrop(image_processor.size[\"height\"]),\n",
    "        RandomHorizontalFlip(),\n",
    "        ToTensor(),\n",
    "        normalize,\n",
    "    ]\n",
    ")\n",
    "\n",
    "val_transforms = Compose(\n",
    "    [\n",
    "        Resize(image_processor.size[\"height\"]),\n",
    "        CenterCrop(image_processor.size[\"height\"]),\n",
    "        ToTensor(),\n",
    "        normalize,\n",
    "    ]\n",
    ")\n",
    "\n",
    "\n",
    "def preprocess_train(example_batch):\n",
    "    \"\"\"Apply train_transforms across a batch.\"\"\"\n",
    "    example_batch[\"pixel_values\"] = [train_transforms(image.convert(\"RGB\")) for image in example_batch[\"image\"]]\n",
    "    return example_batch\n",
    "\n",
    "\n",
    "def preprocess_val(example_batch):\n",
    "    \"\"\"Apply val_transforms across a batch.\"\"\"\n",
    "    example_batch[\"pixel_values\"] = [val_transforms(image.convert(\"RGB\")) for image in example_batch[\"image\"]]\n",
    "    return example_batch"
   ],
   "id": "c2ec54a58f76deac"
  },
  {
   "metadata": {},
   "cell_type": "markdown",
   "source": "4. We split our mini dataset into training and validation. ",
   "id": "5d23f1f7fcb81d31"
  },
  {
   "metadata": {},
   "cell_type": "code",
   "outputs": [],
   "execution_count": null,
   "source": [
    "# split up training into training + validation\n",
    "splits = dataset.train_test_split(test_size=0.1)\n",
    "train_ds = splits[\"train\"]\n",
    "val_ds = splits[\"test\"]"
   ],
   "id": "f3ef91dc50611c63"
  },
  {
   "metadata": {},
   "cell_type": "markdown",
   "source": "5. We set the transformation functions to the datasets accordingly. ",
   "id": "535bafe28a726531"
  },
  {
   "metadata": {},
   "cell_type": "code",
   "outputs": [],
   "execution_count": null,
   "source": [
    "train_ds.set_transform(preprocess_train)\n",
    "val_ds.set_transform(preprocess_val)"
   ],
   "id": "9425d25c04187c77"
  },
  {
   "metadata": {},
   "cell_type": "markdown",
   "source": [
    "## Load and prepare a model \n",
    "\n",
    "In this section, we first load the model we want to fine-tune. "
   ],
   "id": "aff31b4d5fc94bb5"
  },
  {
   "metadata": {},
   "cell_type": "code",
   "outputs": [],
   "execution_count": null,
   "source": [
    "def print_trainable_parameters(model):\n",
    "    \"\"\"\n",
    "    Prints the number of trainable parameters in the model.\n",
    "    \"\"\"\n",
    "    trainable_params = 0\n",
    "    all_param = 0\n",
    "    for _, param in model.named_parameters():\n",
    "        all_param += param.numel()\n",
    "        if param.requires_grad:\n",
    "            trainable_params += param.numel()\n",
    "    print(\n",
    "        f\"trainable params: {trainable_params} || all params: {all_param} || trainable%: {100 * trainable_params / all_param:.2f}\"\n",
    "    )"
   ],
   "id": "18987ecd1520c797"
  },
  {
   "metadata": {},
   "cell_type": "markdown",
   "source": [
    "The `get_peft_model()` method that we will use in a moment wraps the original model to be fine-tuned as a `PeftModel`. So, it's important for us to initialize the original model correctly. As such, we initialize it by specifying the `label2id` and `id2label` so that `AutoModelForImageClassification` can initialize a append classification head to the underlying model, adapted for our dataset. We can confirm this from the warning below:\n",
    "\n",
    "```\n",
    "Some weights of ViTForImageClassification were not initialized from the model checkpoint at google/vit-base-patch16-224-in21k and are newly initialized: ['classifier.weight', 'classifier.bias']\n",
    "```"
   ],
   "id": "435ff2033916dc9e"
  },
  {
   "metadata": {},
   "cell_type": "code",
   "outputs": [],
   "execution_count": null,
   "source": [
    "from transformers import AutoModelForImageClassification, TrainingArguments, Trainer\n",
    "\n",
    "model = AutoModelForImageClassification.from_pretrained(\n",
    "    model_checkpoint,\n",
    "    label2id=label2id,\n",
    "    id2label=id2label,\n",
    "    ignore_mismatched_sizes=True,  # provide this in case you're planning to fine-tune an already fine-tuned checkpoint\n",
    ")\n",
    "print_trainable_parameters(model)"
   ],
   "id": "bdb459546426e601"
  },
  {
   "metadata": {},
   "cell_type": "markdown",
   "source": [
    "Also, take note of the number of total trainable parameters of `model`: it's 100%! We'll compare this number to that of the LoRA model.\n",
    "\n",
    "We now use the `PeftModel` to wrap `model` so that the \"update\" matrices are added to the respective places. "
   ],
   "id": "6a06a40de2a203c7"
  },
  {
   "metadata": {},
   "cell_type": "code",
   "outputs": [],
   "execution_count": null,
   "source": [
    "from peft import LoraConfig, get_peft_model\n",
    "\n",
    "config = LoraConfig(\n",
    "    r=16,\n",
    "    lora_alpha=16,\n",
    "    target_modules=[\"query\", \"value\"],\n",
    "    lora_dropout=0.1,\n",
    "    bias=\"none\",\n",
    "    modules_to_save=[\"classifier\"],\n",
    ")\n",
    "lora_model = get_peft_model(model, config)\n",
    "print_trainable_parameters(lora_model)"
   ],
   "id": "a85b13b9d01b43b7"
  },
  {
   "metadata": {},
   "cell_type": "markdown",
   "source": [
    "Let's unpack what's going on here. \n",
    "\n",
    "In order for LoRA to take effect, we need to specify the target modules to `LoraConfig` so that `get_peft_model()` knows which modules inside our model needs to be amended with LoRA matrices. In this case, we're only interested in targetting the query and value matrices of the attention blocks of the base model. Since the parameters corresponding to these matrices are \"named\" with `query` and `value` respectively, we specify them accordingly in the `target_modules` argument of `LoraConfig`. \n",
    "\n",
    "We also specify `modules_to_save`. After we wrap our base model `model` with `get_peft_model()` along with the `config`, we get a new model where only the LoRA parameters are trainable (so-called \"update matrices\") while the pre-trained parameters are kept frozen. These include the parameters of the randomly initialized classifier parameters too. This is NOT we want when fine-tuning the base model on our custom dataset. To ensure that the classifier parameters are also trained, we specify `modules_to_save`. This also ensures that these modules are serialized alongside the LoRA trainable parameters when using utilities like `save_pretrained()` and `push_to_hub()`.  \n",
    "\n",
    "Regarding the other parameters:\n",
    "\n",
    "* `r`: The dimension used by the LoRA update matrices.\n",
    "* `alpha`: Scaling factor.\n",
    "* `bias`: Specifying if the `bias` parameters should be trained. `None` denotes none of the `bias` parameters will be trained. \n",
    "\n",
    "`r` and `alpha` together control the total number of final trainable parameters when using LoRA giving us the flexbility to balance a trade-off between end performance and compute efficiency.\n"
   ],
   "id": "72cc62000a8380c3"
  },
  {
   "metadata": {},
   "cell_type": "markdown",
   "source": "We can also how many parameters we're actually training. Since we're interested in performing **parameter-efficient fine-tuning**, we should expect to notice a less number of trainable parameters from the `lora_model` in comparison to the original `model` which is indeed the case here. ",
   "id": "f91e2e6ab596f3a4"
  },
  {
   "metadata": {},
   "cell_type": "markdown",
   "source": [
    "## Training arguments\n",
    "\n",
    "We will leverage [🤗 Trainer](https://huggingface.co/docs/transformers/main_classes/trainer) for fine-tuning. It accepts several arguments which we wrap using [`TrainingArguments`](https://huggingface.co/docs/transformers/main_classes/trainer#transformers.TrainingArguments). "
   ],
   "id": "e8cef601137d9b4f"
  },
  {
   "metadata": {},
   "cell_type": "code",
   "outputs": [],
   "execution_count": null,
   "source": [
    "from transformers import TrainingArguments, Trainer\n",
    "\n",
    "model_name = model_checkpoint.split(\"/\")[-1]\n",
    "batch_size = 128\n",
    "\n",
    "args = TrainingArguments(\n",
    "    f\"{model_name}-finetuned-lora-food101\",\n",
    "    remove_unused_columns=False,\n",
    "    eval_strategy=\"epoch\",\n",
    "    save_strategy=\"epoch\",\n",
    "    learning_rate=5e-3,\n",
    "    per_device_train_batch_size=batch_size,\n",
    "    gradient_accumulation_steps=4,\n",
    "    per_device_eval_batch_size=batch_size,\n",
    "    fp16=True,\n",
    "    num_train_epochs=5,\n",
    "    logging_steps=10,\n",
    "    load_best_model_at_end=True,\n",
    "    metric_for_best_model=\"accuracy\",\n",
    "    push_to_hub=True,\n",
    "    label_names=[\"labels\"],\n",
    ")"
   ],
   "id": "c5dccc27a86a274d"
  },
  {
   "metadata": {},
   "cell_type": "markdown",
   "source": [
    "Some things to note here:\n",
    "\n",
    "* We're using a larger batch size since there is only a handful of parameters to train. \n",
    "* Larger learning rate than the normal (1e-5 for example). \n",
    "\n",
    "All of these things are a byproduct of the fact that we're training only a small number of parameters. This can potentially also reduce the need to conduct expensive hyperparameter tuning experiments. "
   ],
   "id": "f9f1f98490f1146"
  },
  {
   "metadata": {},
   "cell_type": "markdown",
   "source": "## Prepare evaluation metric",
   "id": "53ce28997fbe0533"
  },
  {
   "metadata": {},
   "cell_type": "code",
   "outputs": [],
   "execution_count": null,
   "source": [
    "import numpy as np\n",
    "import evaluate\n",
    "\n",
    "metric = evaluate.load(\"accuracy\")\n",
    "\n",
    "\n",
    "# the compute_metrics function takes a Named Tuple as input:\n",
    "# predictions, which are the logits of the model as Numpy arrays,\n",
    "# and label_ids, which are the ground-truth labels as Numpy arrays.\n",
    "def compute_metrics(eval_pred):\n",
    "    \"\"\"Computes accuracy on a batch of predictions\"\"\"\n",
    "    predictions = np.argmax(eval_pred.predictions, axis=1)\n",
    "    return metric.compute(predictions=predictions, references=eval_pred.label_ids)"
   ],
   "id": "513018b4d5652861"
  },
  {
   "metadata": {},
   "cell_type": "markdown",
   "source": [
    "## Collation function\n",
    "\n",
    "This is used by `Trainer` to gather a batch of training and evaluation examples and prepare them in a format that is acceptable by the underlying model. "
   ],
   "id": "c2913ca62ffa2cda"
  },
  {
   "metadata": {},
   "cell_type": "code",
   "outputs": [],
   "execution_count": null,
   "source": [
    "import torch\n",
    "\n",
    "\n",
    "def collate_fn(examples):\n",
    "    pixel_values = torch.stack([example[\"pixel_values\"] for example in examples])\n",
    "    labels = torch.tensor([example[\"label\"] for example in examples])\n",
    "    return {\"pixel_values\": pixel_values, \"labels\": labels}"
   ],
   "id": "f4f6b34c80757b3f"
  },
  {
   "metadata": {},
   "cell_type": "markdown",
   "source": "## Train and evaluate",
   "id": "1b36fa6f928707cd"
  },
  {
   "metadata": {},
   "cell_type": "code",
   "outputs": [],
   "execution_count": null,
   "source": [
    "trainer = Trainer(\n",
    "    lora_model,\n",
    "    args,\n",
    "    train_dataset=train_ds,\n",
    "    eval_dataset=val_ds,\n",
    "    tokenizer=image_processor,\n",
    "    compute_metrics=compute_metrics,\n",
    "    data_collator=collate_fn,\n",
    ")\n",
    "train_results = trainer.train()"
   ],
   "id": "9f488c2a105c4039"
  },
  {
   "metadata": {},
   "cell_type": "markdown",
   "source": "In just a few minutes, we have a fine-tuned model with 96% validation accuracy. Also, note that we used a very small subset of the training dataset which is definitely impacting the results. ",
   "id": "7c6dfa21b3a298d0"
  },
  {
   "metadata": {},
   "cell_type": "code",
   "outputs": [],
   "execution_count": null,
   "source": "trainer.evaluate(val_ds)",
   "id": "b8c172942b8a6dfc"
  },
  {
   "metadata": {},
   "cell_type": "markdown",
   "source": [
    "## Sharing your model and inference \n",
    "\n",
    "Once the fine-tuning is done, we can share the LoRA parameters with the community like so: "
   ],
   "id": "e722ac883694438c"
  },
  {
   "metadata": {},
   "cell_type": "code",
   "outputs": [],
   "execution_count": null,
   "source": [
    "repo_name = f\"sayakpaul/{model_name}-finetuned-lora-food101\"\n",
    "lora_model.push_to_hub(repo_name)"
   ],
   "id": "c2b6911cfa8ce91d"
  },
  {
   "metadata": {},
   "cell_type": "markdown",
   "source": "When we call `push_to_hub()` on the `lora_model`, only the LoRA parameters along with any modules specified in `modules_to_save` are saved. If we take a look at the [trained LoRA parameters](https://huggingface.co/sayakpaul/vit-base-patch16-224-in21k-finetuned-lora-food101/blob/main/adapter_model.bin), we see that it's only **2.6 MB**! This greatly helps with portability especially when we're using a very large model to fine-tune (such as [BLOOM](https://huggingface.co/bigscience/bloom)). ",
   "id": "a3cb32b95ac90824"
  },
  {
   "metadata": {},
   "cell_type": "markdown",
   "source": "Next, we see how to load the LoRA updated parameters along with our base model for inference. When we wrap a base model with `PeftModel` that modifications are DONE in place. So to mitigate any concerns that might stem from in place modifications, we newly initialize our base model just like we did earlier and construct our inference model. ",
   "id": "156443d7a5eca5b1"
  },
  {
   "metadata": {},
   "cell_type": "code",
   "outputs": [],
   "execution_count": null,
   "source": [
    "from peft import PeftConfig, PeftModel\n",
    "\n",
    "config = PeftConfig.from_pretrained(repo_name)\n",
    "model = model = AutoModelForImageClassification.from_pretrained(\n",
    "    config.base_model_name_or_path,\n",
    "    label2id=label2id,\n",
    "    id2label=id2label,\n",
    "    ignore_mismatched_sizes=True,  # provide this in case you're planning to fine-tune an already fine-tuned checkpoint\n",
    ")\n",
    "# Load the Lora model\n",
    "inference_model = PeftModel.from_pretrained(model, repo_name)"
   ],
   "id": "7676e04b402f772f"
  },
  {
   "metadata": {},
   "cell_type": "markdown",
   "source": "Don't worry about the warnings, they're harmless. ",
   "id": "f6166364faaec132"
  },
  {
   "metadata": {},
   "cell_type": "markdown",
   "source": "Let's now fetch a sample for inference.",
   "id": "7a79915037e9c44d"
  },
  {
   "metadata": {},
   "cell_type": "code",
   "outputs": [],
   "execution_count": null,
   "source": [
    "from PIL import Image\n",
    "import requests\n",
    "\n",
    "url = \"https://huggingface.co/datasets/sayakpaul/sample-datasets/resolve/main/beignets.jpeg\"\n",
    "image = Image.open(requests.get(url, stream=True).raw)\n",
    "image"
   ],
   "id": "7c50acc518d7bad5"
  },
  {
   "metadata": {},
   "cell_type": "markdown",
   "source": "We first instantiate an `image_processor` from the underlying model repo. ",
   "id": "b5f9e1d189b03e7"
  },
  {
   "metadata": {},
   "cell_type": "code",
   "outputs": [],
   "execution_count": null,
   "source": "image_processor = AutoImageProcessor.from_pretrained(repo_name)",
   "id": "a9c0a8e144f43fcb"
  },
  {
   "metadata": {},
   "cell_type": "markdown",
   "source": "We then prepare the sample for inference.",
   "id": "1d4af3e9fc9bfb16"
  },
  {
   "metadata": {},
   "cell_type": "code",
   "outputs": [],
   "execution_count": null,
   "source": [
    "# prepare image for the model\n",
    "encoding = image_processor(image.convert(\"RGB\"), return_tensors=\"pt\")\n",
    "print(encoding.pixel_values.shape)"
   ],
   "id": "8c4ea38b85d22e1"
  },
  {
   "metadata": {},
   "cell_type": "markdown",
   "source": "And run inference!",
   "id": "f7d7bd83b82913d7"
  },
  {
   "metadata": {},
   "cell_type": "code",
   "outputs": [],
   "execution_count": null,
   "source": [
    "import torch\n",
    "\n",
    "# forward pass\n",
    "with torch.no_grad():\n",
    "    outputs = inference_model(**encoding)\n",
    "    logits = outputs.logits\n",
    "\n",
    "predicted_class_idx = logits.argmax(-1).item()\n",
    "print(\"Predicted class:\", inference_model.config.id2label[predicted_class_idx])"
   ],
   "id": "1a3d422f34bf8b5f"
  }
 ],
 "metadata": {},
 "nbformat": 5,
 "nbformat_minor": 9
}
