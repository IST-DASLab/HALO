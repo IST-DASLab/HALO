{
 "cells": [
  {
   "metadata": {},
   "cell_type": "code",
   "outputs": [],
   "execution_count": null,
   "source": "!git clone https://huggingface.co/spaces/smangrul/peft-lora-sd-dreambooth",
   "id": "40d95f61c0d0a24c"
  },
  {
   "metadata": {},
   "cell_type": "code",
   "outputs": [],
   "execution_count": null,
   "source": [
    "%cd \"peft-lora-sd-dreambooth\"\n",
    "!pip install -r requirements.txt"
   ],
   "id": "3378b8f7861d066c"
  },
  {
   "metadata": {},
   "cell_type": "code",
   "outputs": [],
   "execution_count": null,
   "source": "!python colab.py",
   "id": "6378aa9845a9da76"
  }
 ],
 "metadata": {},
 "nbformat": 5,
 "nbformat_minor": 9
}
