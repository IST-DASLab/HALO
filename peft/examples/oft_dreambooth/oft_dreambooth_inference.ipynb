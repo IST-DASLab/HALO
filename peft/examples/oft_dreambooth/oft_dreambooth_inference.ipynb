{
 "cells": [
  {
   "metadata": {},
   "cell_type": "code",
   "outputs": [],
   "execution_count": null,
   "source": [
    "# Dreambooth with OFT\n",
    "This\n",
    "Notebook\n",
    "assumes\n",
    "that\n",
    "you\n",
    "already\n",
    "ran\n",
    "the\n",
    "train_dreambooth.py\n",
    "script\n",
    "to\n",
    "create\n",
    "your\n",
    "own\n",
    "adapter."
   ],
   "id": "b2619bdaaa4da789"
  },
  {
   "metadata": {},
   "cell_type": "code",
   "outputs": [],
   "execution_count": null,
   "source": [
    "from diffusers import DiffusionPipeline\n",
    "from diffusers.utils import check_min_version, get_logger\n",
    "from peft import PeftModel\n",
    "\n",
    "# Will error if the minimal version of diffusers is not installed. Remove at your own risks.\n",
    "check_min_version(\"0.10.0.dev0\")\n",
    "\n",
    "logger = get_logger(__name__)\n",
    "\n",
    "BASE_MODEL_NAME = \"stabilityai/stable-diffusion-2-1-base\"\n",
    "ADAPTER_MODEL_PATH = \"INSERT MODEL PATH HERE\""
   ],
   "id": "b7c6174171835279"
  },
  {
   "metadata": {},
   "cell_type": "code",
   "outputs": [],
   "execution_count": null,
   "source": [
    "pipe = DiffusionPipeline.from_pretrained(\n",
    "    BASE_MODEL_NAME,\n",
    ")\n",
    "pipe.to(\"cuda\")\n",
    "pipe.unet = PeftModel.from_pretrained(pipe.unet, ADAPTER_MODEL_PATH + \"/unet\", adapter_name=\"default\")\n",
    "pipe.text_encoder = PeftModel.from_pretrained(\n",
    "    pipe.text_encoder, ADAPTER_MODEL_PATH + \"/text_encoder\", adapter_name=\"default\"\n",
    ")"
   ],
   "id": "16c06a9c403c6170"
  },
  {
   "metadata": {},
   "cell_type": "code",
   "outputs": [],
   "execution_count": null,
   "source": [
    "prompt = \"A photo of a sks dog\"\n",
    "image = pipe(\n",
    "    prompt,\n",
    "    num_inference_steps=50,\n",
    "    height=512,\n",
    "    width=512,\n",
    ").images[0]\n",
    "image"
   ],
   "id": "4b73fa6b119d16be"
  }
 ],
 "metadata": {},
 "nbformat": 5,
 "nbformat_minor": 9
}
